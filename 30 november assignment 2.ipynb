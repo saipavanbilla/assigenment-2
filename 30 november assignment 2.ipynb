{
 "cells": [
  {
   "cell_type": "code",
   "execution_count": 1,
   "id": "93e48c40",
   "metadata": {},
   "outputs": [],
   "source": [
    "# 1. Write a program to accept two numbers from the user and calculate multiplication, division ?"
   ]
  },
  {
   "cell_type": "code",
   "execution_count": 2,
   "id": "aaa30f33",
   "metadata": {},
   "outputs": [
    {
     "name": "stdout",
     "output_type": "stream",
     "text": [
      ":enter your first num15\n",
      "enter your second num20\n",
      "300\n",
      "0.75\n"
     ]
    }
   ],
   "source": [
    "x=int(input(\":enter your first num\"))\n",
    "y=int(input(\"enter your second num\"))\n",
    "a=x*y\n",
    "b=x/y\n",
    "print(a)\n",
    "print(b)"
   ]
  },
  {
   "cell_type": "code",
   "execution_count": 4,
   "id": "f09d8fcc",
   "metadata": {},
   "outputs": [],
   "source": [
    "# 2. Write a python program to print the characters from a string that are present at an even indexaword=input(\"enter a string : \") ?"
   ]
  },
  {
   "cell_type": "code",
   "execution_count": 6,
   "id": "791b0782",
   "metadata": {},
   "outputs": [
    {
     "name": "stdout",
     "output_type": "stream",
     "text": [
      "enter your namesaipavan billa\n",
      "index[ 0 ] s\n",
      "index[ 4 ] a\n",
      "index[ 8 ]  \n",
      "index[ 12 ] l\n"
     ]
    }
   ],
   "source": [
    "word=input(\"enter your name\")\n",
    "x=len(word)\n",
    "for i in range(0,x,4):\n",
    "    print(\"index[\",i,\"]\",word[i])"
   ]
  },
  {
   "cell_type": "code",
   "execution_count": 7,
   "id": "0e5e2a08",
   "metadata": {},
   "outputs": [],
   "source": [
    "# 3. Write a python program to print the characters from a string that are present at an odd index ?"
   ]
  },
  {
   "cell_type": "code",
   "execution_count": 8,
   "id": "1877225e",
   "metadata": {},
   "outputs": [
    {
     "name": "stdout",
     "output_type": "stream",
     "text": [
      "enter your namesaipavan billa\n",
      "index[ 1 ] a\n",
      "index[ 3 ] p\n",
      "index[ 5 ] v\n",
      "index[ 7 ] n\n",
      "index[ 9 ] b\n",
      "index[ 11 ] l\n",
      "index[ 13 ] a\n"
     ]
    }
   ],
   "source": [
    "word=input(\"enter your name\")\n",
    "x=len(word)\n",
    "for i in range(1,x,2):\n",
    "    print(\"index[\",i,\"]\",word[i])"
   ]
  },
  {
   "cell_type": "code",
   "execution_count": 9,
   "id": "23ee7fa6",
   "metadata": {},
   "outputs": [],
   "source": [
    "# 4. Write a python program which will print the sum of the two numbers if the two numbers are even or it will print the difference of two numbers ?"
   ]
  },
  {
   "cell_type": "code",
   "execution_count": 10,
   "id": "9f003cfe",
   "metadata": {},
   "outputs": [
    {
     "name": "stdout",
     "output_type": "stream",
     "text": [
      "enter your number100\n",
      "enter your number200\n",
      "100+200=300\n"
     ]
    }
   ],
   "source": [
    "x=int(input(\"enter your number\"))\n",
    "y=int(input(\"enter your number\"))\n",
    "if x%2==0 and y%2==0:\n",
    "    print(\"{}+{}={}\".format(x,y,x+y))\n",
    "else:\n",
    "    print(\"{}-{}={}\".format(x,y,x-y))"
   ]
  },
  {
   "cell_type": "code",
   "execution_count": 11,
   "id": "91826314",
   "metadata": {},
   "outputs": [],
   "source": [
    "# 5.Write a python program to convert all even indexed alphabets to upper and odd indexed char?"
   ]
  },
  {
   "cell_type": "code",
   "execution_count": 13,
   "id": "0c301210",
   "metadata": {},
   "outputs": [
    {
     "name": "stdout",
     "output_type": "stream",
     "text": [
      "The original string is : pavanmessy\n",
      "The alternate case string is : PaVaNmEsSy\n"
     ]
    }
   ],
   "source": [
    "test_str = \"pavanmessy\"\n",
    "print(\"The original string is : \" + str(test_str))\n",
    "res = \"\"\n",
    "for x in range(len(test_str)):\n",
    "    if not x % 2 :\n",
    "        res = res + test_str[x].upper()\n",
    "    else:\n",
    "        res = res + test_str[x].lower()\n",
    "print(\"The alternate case string is : \" + str(res))"
   ]
  },
  {
   "cell_type": "code",
   "execution_count": 14,
   "id": "19cddd18",
   "metadata": {},
   "outputs": [],
   "source": [
    "# 6.Write a python program which will print True if the input number is divisible by 5 or else False ?\n"
   ]
  },
  {
   "cell_type": "code",
   "execution_count": 15,
   "id": "cc5ed2b8",
   "metadata": {},
   "outputs": [
    {
     "name": "stdout",
     "output_type": "stream",
     "text": [
      "Numbers that are divisible by 5 are: [False, True, False, True, False, True]\n"
     ]
    }
   ],
   "source": [
    "list_1 = [13, 10, 87, 50, 71, 25]\n",
    "result = list (map (lambda x: (x %5 == 0), list_1))\n",
    "print (\"Numbers that are divisible by 5 are:\", result)"
   ]
  },
  {
   "cell_type": "code",
   "execution_count": 1,
   "id": "23d83f2b",
   "metadata": {},
   "outputs": [],
   "source": [
    "# 7. Given two integer numbers return their product only if the product is greater than 1000, else return their sum ?\n"
   ]
  },
  {
   "cell_type": "code",
   "execution_count": 4,
   "id": "0ca02492",
   "metadata": {},
   "outputs": [
    {
     "name": "stdout",
     "output_type": "stream",
     "text": [
      "Number 1 :- 25\n",
      "Number 2 :- 35\n"
     ]
    },
    {
     "data": {
      "text/plain": [
       "'The sum of 25 and 35 is  60'"
      ]
     },
     "execution_count": 4,
     "metadata": {},
     "output_type": "execute_result"
    }
   ],
   "source": [
    "num1=int(input(\"Number 1 :- \"))\n",
    "num2=int(input(\"Number 2 :- \"))\n",
    "\n",
    "def pavan(num1,num2):\n",
    "    if num1*num2 > 1000:\n",
    "        return \"The product of {} and {} is  {}\".format(num1,num2,num1*num2)\n",
    "    else:\n",
    "        return \"The sum of {} and {} is  {}\".format(num1,num2,num1+num2)\n",
    "\n",
    "pavan(num1,num2)"
   ]
  },
  {
   "cell_type": "code",
   "execution_count": null,
   "id": "08d09cd4",
   "metadata": {},
   "outputs": [],
   "source": [
    "# 8. Given two strings x, y writes a program to return a new string made of x and y’s first, middle, and last characters ?\n",
    "#    Example: Input X=” pytho” Y=” javas” Output ” pjtvos”"
   ]
  },
  {
   "cell_type": "code",
   "execution_count": 1,
   "id": "1cb3fbf8",
   "metadata": {},
   "outputs": [
    {
     "name": "stdout",
     "output_type": "stream",
     "text": [
      "pytho\n",
      "javas\n",
      "\n",
      "\n",
      "pjtvos\n"
     ]
    }
   ],
   "source": [
    "x=input()\n",
    "y=input()\n",
    "def pavan(x,y):\n",
    "    ma=int(len(x)/2)\n",
    "    mb=int(len(y)/2)\n",
    "    print(\"\\n\")\n",
    "    print(x[0]+y[0]+x[ma]+y[mb]+x[-1]+y[-1])\n",
    "pavan(x,y)"
   ]
  },
  {
   "cell_type": "code",
   "execution_count": 2,
   "id": "6ef8e850",
   "metadata": {},
   "outputs": [],
   "source": [
    "# 9. Write a python program to take three names as input from a user in the single input () function call ?\n"
   ]
  },
  {
   "cell_type": "code",
   "execution_count": 9,
   "id": "d744255a",
   "metadata": {},
   "outputs": [
    {
     "name": "stdout",
     "output_type": "stream",
     "text": [
      "Please enter your names here : name1:-\"person1\" name2:-\"person2\" name3:-\"person:-3\"\n",
      " ['name1:-\"person1\"', 'name2:-\"person2\"', 'name3:-\"person:-3\"']\n",
      " ['name1:-\"person1\"', 'name2:-\"person2\"', 'name3:-\"person:-3\"']\n",
      " ['name1:-\"person1\"', 'name2:-\"person2\"', 'name3:-\"person:-3\"']\n"
     ]
    }
   ],
   "source": [
    "name=input(\"Please enter your names here : \")\n",
    "pavan=name.split()\n",
    "for sai in pavan:\n",
    "    print(\" {}\".format(pavan))"
   ]
  },
  {
   "cell_type": "code",
   "execution_count": 10,
   "id": "26ab1b9f",
   "metadata": {},
   "outputs": [],
   "source": [
    "# 10. Write a Python program to get a string from a given string where all occurrences of its first char have been changed to '@', except "
   ]
  },
  {
   "cell_type": "code",
   "execution_count": 12,
   "id": "dc700889",
   "metadata": {},
   "outputs": [
    {
     "name": "stdout",
     "output_type": "stream",
     "text": [
      "Please enter your names here : abcdefaaajifboaaboajbx\n",
      "abcdef@@@jifbo@@bo@jbx\n"
     ]
    }
   ],
   "source": [
    "name=input(\"Please enter your names here : \")\n",
    "a=name[0]\n",
    "b=name[1:]\n",
    "c=b.replace(a,\"@\")\n",
    "print(a+c)"
   ]
  },
  {
   "cell_type": "code",
   "execution_count": 13,
   "id": "334b8389",
   "metadata": {},
   "outputs": [],
   "source": [
    "# 11. Write a Python program to add 'ing' at the end of a given string (string length should be equal to or more than 3). If the given string already ends with 'ing' then add 'ly' instead. If the string length of the given string is less than 3, leave it unchanged\n"
   ]
  },
  {
   "cell_type": "code",
   "execution_count": 14,
   "id": "36f778ce",
   "metadata": {},
   "outputs": [
    {
     "name": "stdout",
     "output_type": "stream",
     "text": [
      "Please enter the string here : im busy right now\n",
      "im busy right nowing\n"
     ]
    }
   ],
   "source": [
    "name=input(\"Please enter the string here : \")\n",
    "if len(name)<3:\n",
    "    print(name)\n",
    "elif len(name)>=3:\n",
    "    if name[-3:]==\"ing\":\n",
    "        print(name.replace(\"ing\",\"ly\"))\n",
    "    else:\n",
    "        print(name+\"ing\")\n"
   ]
  },
  {
   "cell_type": "code",
   "execution_count": 15,
   "id": "34fdec16",
   "metadata": {},
   "outputs": [],
   "source": [
    "# 12. Write a python program that accepts two inputs num1 and num2 print True if one of them is 10 or if their sum is 10 otherwise print False\n",
    "\n"
   ]
  },
  {
   "cell_type": "code",
   "execution_count": 16,
   "id": "278b2695",
   "metadata": {},
   "outputs": [
    {
     "name": "stdout",
     "output_type": "stream",
     "text": [
      "num1 : 25\n",
      "num2 : 30\n",
      "False\n"
     ]
    }
   ],
   "source": [
    "num1=int(input(\"num1 : \"))\n",
    "num2=int(input(\"num2 : \"))\n",
    "if num1==10 or num2==10 or num1+num2==10:\n",
    "    print(True)\n",
    "else:\n",
    "    print(False)"
   ]
  },
  {
   "cell_type": "code",
   "execution_count": 17,
   "id": "3984075d",
   "metadata": {},
   "outputs": [],
   "source": [
    "# 13. Write a python program that accepts three inputs x, y and z print True if x*y>z otherwise False\n"
   ]
  },
  {
   "cell_type": "code",
   "execution_count": 19,
   "id": "8bb8e686",
   "metadata": {},
   "outputs": [
    {
     "name": "stdout",
     "output_type": "stream",
     "text": [
      "2\n",
      "4\n",
      "25\n",
      "False\n"
     ]
    }
   ],
   "source": [
    "x=int(input())\n",
    "y=int(input())\n",
    "z=int(input())\n",
    "if x*y>z:\n",
    "    print(True)\n",
    "else:\n",
    "    print(False)\n"
   ]
  },
  {
   "cell_type": "code",
   "execution_count": 20,
   "id": "24357fd2",
   "metadata": {},
   "outputs": [],
   "source": [
    "# 14. Write a python program that accepts two strings inputs return True depending on whether the total number of characters in the first string is equal to the total number of characters in the second string\n"
   ]
  },
  {
   "cell_type": "code",
   "execution_count": 21,
   "id": "d6f2f3c1",
   "metadata": {},
   "outputs": [
    {
     "name": "stdout",
     "output_type": "stream",
     "text": [
      "sai\n",
      "pavan\n",
      "False\n"
     ]
    }
   ],
   "source": [
    "string1=input()\n",
    "string2=input()\n",
    "if len(string1)==len(string2):\n",
    "    print(True)\n",
    "else:\n",
    "    print(False)"
   ]
  },
  {
   "cell_type": "code",
   "execution_count": 22,
   "id": "6be51b00",
   "metadata": {},
   "outputs": [],
   "source": [
    "# 15. Write a python program that takes a string input, we'll say that the front is the first three characters of the string. If the string length is less than three characters, the front is whatever is there. Return a new string, which is three copies of the front\n"
   ]
  },
  {
   "cell_type": "code",
   "execution_count": 25,
   "id": "be2c5121",
   "metadata": {},
   "outputs": [
    {
     "name": "stdout",
     "output_type": "stream",
     "text": [
      "saipavan\n",
      "saipa saipa saipa\n"
     ]
    }
   ],
   "source": [
    "string=input()\n",
    "if len(string)<5:\n",
    "    print(string)\n",
    "else:\n",
    "    front=string[0:5]\n",
    "    print(front,front,front)"
   ]
  },
  {
   "cell_type": "code",
   "execution_count": 26,
   "id": "2922b034",
   "metadata": {},
   "outputs": [],
   "source": [
    "# 16. Write a python program that takes in a word and determines whether or not it is plural. A plural word is one that ends in \"s\".\n"
   ]
  },
  {
   "cell_type": "code",
   "execution_count": 27,
   "id": "10d3f168",
   "metadata": {},
   "outputs": [
    {
     "name": "stdout",
     "output_type": "stream",
     "text": [
      "saipavan\n",
      "The given word saipavan is not a plural \n"
     ]
    }
   ],
   "source": [
    "\n",
    "word=input()\n",
    "if word[-1]==\"s\" or word[-1]==\"S\":\n",
    "    print(\"The given word {} is plural \".format(word))\n",
    "else:\n",
    "    print(\"The given word {} is not a plural \".format(word))"
   ]
  },
  {
   "cell_type": "code",
   "execution_count": 1,
   "id": "0b93e40f",
   "metadata": {},
   "outputs": [],
   "source": [
    "# 17. A bartender is writing a simple program to determine whether he should serve drinks to someone. He only serves drinks to people 18 and older and when he's not on break (True means break and False means not a break time). Given the person's age, and whether break time is in session, create a python program which prints whether he should serve drinks or not.\n"
   ]
  },
  {
   "cell_type": "code",
   "execution_count": 3,
   "id": "7be888db",
   "metadata": {},
   "outputs": [
    {
     "name": "stdout",
     "output_type": "stream",
     "text": [
      "Enter yoursaipavan billa\n",
      "please provide your age : 26\n",
      "provide bar tender is in break or not?\n",
      "type y or nn\n",
      "Bartender is not taking Break!\n",
      "The bartender serves drink to saipavan billa\n"
     ]
    }
   ],
   "source": [
    "name=input(\"Enter your\")\n",
    "age=int(input(\"please provide your age : \"))\n",
    "print(\"provide bar tender is in break or not?\")\n",
    "b=input(\"type y or n\")\n",
    "if b==\"n\" or b==\"N\":\n",
    "    print(\"Bartender is not taking Break!\")\n",
    "    if age >=18:\n",
    "        print(\"The bartender serves drink to {}\".format(name))\n",
    "    else:\n",
    "        print(\"The bartender will not serves drink to {}\".format(name))\n",
    "if b==\"Y\" or b==\"y\":\n",
    "    print(\"The bartender serves drink to {}\".format(name))"
   ]
  },
  {
   "cell_type": "code",
   "execution_count": 4,
   "id": "c0a31db4",
   "metadata": {},
   "outputs": [],
   "source": [
    "# 18. Manoj Kumar has family and friends. Help him remind them who is who. Given a string with a name, return the relation of that person to Manoj Kumar.\n",
    "#     Shiva father ,Letha mother ,Tarun brother\n"
   ]
  },
  {
   "cell_type": "code",
   "execution_count": 5,
   "id": "8353df6e",
   "metadata": {},
   "outputs": [
    {
     "name": "stdout",
     "output_type": "stream",
     "text": [
      "Please enter your name : shiva\n",
      "shiva is Father to Manoj Kumar.\n"
     ]
    }
   ],
   "source": [
    "\n",
    "person=input(\"Please enter your name : \")\n",
    "data={\"shiva\":\"Father\",\"letha\":\"Mother\",\"vasavi\":\"Sister\",\"tarun\":\"Brother\"}\n",
    "if person in data:\n",
    "    print(\"{} is {} to Manoj Kumar.\".format(person,data[person]))\n",
    "else:\n",
    "    relation=input(\"Please provide your relation with Manoj Kumar : \")\n",
    "    if relation!=\"friend\" or relation!=\"Friend\":\n",
    "        data.update({person:relation})\n",
    "        print(\"{} is {} to Manoj Kumar.\".format(person,data[person]))\n",
    "    else:\n",
    "        print(\"{} is friend to Manoj Kumar.\".format(person))"
   ]
  },
  {
   "cell_type": "code",
   "execution_count": 6,
   "id": "d216dc0a",
   "metadata": {},
   "outputs": [],
   "source": [
    "# 19. Write a python program that takes a string, breaks it up and returns it with vowels first, consonants second. For any character that's not a vowel (like special characters or spaces), treat them like consonants\n"
   ]
  },
  {
   "cell_type": "code",
   "execution_count": 7,
   "id": "3333522e",
   "metadata": {},
   "outputs": [
    {
     "name": "stdout",
     "output_type": "stream",
     "text": [
      "abcdefghijklmnopqrst!njasdb\n",
      "aeioabcdfghjklmnpqrst!njsdb\n"
     ]
    }
   ],
   "source": [
    "x=input()\n",
    "y=\"\"\n",
    "z=\"\"\n",
    "for s in x:\n",
    "    if s in [\"a\",\"e\",\"i\",\"o\",\"u\",\"A\",\"E\",\"I\",\"O\",\"U\"]:\n",
    "        y+=s\n",
    "    else:\n",
    "        z+=s\n",
    "print(y+z)"
   ]
  },
  {
   "cell_type": "code",
   "execution_count": 8,
   "id": "e12232f9",
   "metadata": {},
   "outputs": [],
   "source": [
    "# 20. Create a dynamic calculator which asks for numbers and operator and return the answers\n"
   ]
  },
  {
   "cell_type": "code",
   "execution_count": 9,
   "id": "0340d7cd",
   "metadata": {},
   "outputs": [
    {
     "name": "stdout",
     "output_type": "stream",
     "text": [
      "number 1 : 10\n",
      "operator : *\n",
      "number 2 : 20\n",
      "200\n"
     ]
    }
   ],
   "source": [
    "num1=int(input(\"number 1 : \"))\n",
    "x=input(\"operator : \")\n",
    "num2=int(input(\"number 2 : \"))\n",
    "if x==\"+\":\n",
    "    print(num1+num2)\n",
    "elif x==\"-\":\n",
    "    print(num1-num2)\n",
    "elif x==\"*\":\n",
    "    print(num1*num2)\n",
    "elif x==\"/\":\n",
    "    print(num1/num2)\n",
    "elif x==\"**\":\n",
    "    print(num1**num2)\n",
    "else:\n",
    "    print(\"You have given wrong input.\")\n"
   ]
  },
  {
   "cell_type": "code",
   "execution_count": null,
   "id": "67cb6c33",
   "metadata": {},
   "outputs": [],
   "source": []
  }
 ],
 "metadata": {
  "kernelspec": {
   "display_name": "Python 3 (ipykernel)",
   "language": "python",
   "name": "python3"
  },
  "language_info": {
   "codemirror_mode": {
    "name": "ipython",
    "version": 3
   },
   "file_extension": ".py",
   "mimetype": "text/x-python",
   "name": "python",
   "nbconvert_exporter": "python",
   "pygments_lexer": "ipython3",
   "version": "3.9.13"
  }
 },
 "nbformat": 4,
 "nbformat_minor": 5
}
